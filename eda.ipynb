{
 "cells": [
  {
   "cell_type": "code",
   "execution_count": 64,
   "metadata": {},
   "outputs": [],
   "source": [
    "import pandas as pd\n",
    "from pandas_summary import DataFrameSummary\n",
    "\n",
    "import matplotlib.pyplot as plt\n",
    "plt.rcParams[\"figure.figsize\"] = (16, 8)\n",
    "%matplotlib inline\n",
    "import seaborn as sns\n",
    "sns.set(style=\"whitegrid\")"
   ]
  },
  {
   "cell_type": "code",
   "execution_count": 146,
   "metadata": {},
   "outputs": [],
   "source": [
    "df = pd.read_csv('./input/ks-projects-201801.csv')"
   ]
  },
  {
   "cell_type": "markdown",
   "metadata": {},
   "source": [
    "Drop some projects launched(?) at `1970-01-01 01:00:00`"
   ]
  },
  {
   "cell_type": "code",
   "execution_count": 154,
   "metadata": {},
   "outputs": [],
   "source": [
    "df = df[df['launched'] != '1970-01-01 01:00:00']"
   ]
  },
  {
   "cell_type": "code",
   "execution_count": 196,
   "metadata": {},
   "outputs": [],
   "source": [
    "df['launched_year'] = df.launched.dt.year.values"
   ]
  },
  {
   "cell_type": "code",
   "execution_count": 156,
   "metadata": {},
   "outputs": [],
   "source": [
    "df['deadline'] = pd.to_datetime(df['deadline'])\n",
    "df['launched'] = pd.to_datetime(df['launched'])\n",
    "df.index = df.launched.values"
   ]
  },
  {
   "cell_type": "code",
   "execution_count": 197,
   "metadata": {},
   "outputs": [
    {
     "data": {
      "text/html": [
       "<div>\n",
       "<style scoped>\n",
       "    .dataframe tbody tr th:only-of-type {\n",
       "        vertical-align: middle;\n",
       "    }\n",
       "\n",
       "    .dataframe tbody tr th {\n",
       "        vertical-align: top;\n",
       "    }\n",
       "\n",
       "    .dataframe thead th {\n",
       "        text-align: right;\n",
       "    }\n",
       "</style>\n",
       "<table border=\"1\" class=\"dataframe\">\n",
       "  <thead>\n",
       "    <tr style=\"text-align: right;\">\n",
       "      <th></th>\n",
       "      <th>ID</th>\n",
       "      <th>name</th>\n",
       "      <th>category</th>\n",
       "      <th>main_category</th>\n",
       "      <th>currency</th>\n",
       "      <th>deadline</th>\n",
       "      <th>goal</th>\n",
       "      <th>launched</th>\n",
       "      <th>pledged</th>\n",
       "      <th>state</th>\n",
       "      <th>backers</th>\n",
       "      <th>country</th>\n",
       "      <th>usd pledged</th>\n",
       "      <th>usd_pledged_real</th>\n",
       "      <th>usd_goal_real</th>\n",
       "      <th>launched_year</th>\n",
       "    </tr>\n",
       "  </thead>\n",
       "  <tbody>\n",
       "    <tr>\n",
       "      <th>2015-08-11 12:12:28</th>\n",
       "      <td>1000002330</td>\n",
       "      <td>The Songs of Adelaide &amp; Abullah</td>\n",
       "      <td>Poetry</td>\n",
       "      <td>Publishing</td>\n",
       "      <td>GBP</td>\n",
       "      <td>2015-10-09</td>\n",
       "      <td>1000.0</td>\n",
       "      <td>2015-08-11 12:12:28</td>\n",
       "      <td>0.00</td>\n",
       "      <td>failed</td>\n",
       "      <td>0</td>\n",
       "      <td>GB</td>\n",
       "      <td>0.00</td>\n",
       "      <td>0.00</td>\n",
       "      <td>1533.95</td>\n",
       "      <td>2015</td>\n",
       "    </tr>\n",
       "    <tr>\n",
       "      <th>2017-09-02 04:43:57</th>\n",
       "      <td>1000003930</td>\n",
       "      <td>Greeting From Earth: ZGAC Arts Capsule For ET</td>\n",
       "      <td>Narrative Film</td>\n",
       "      <td>Film &amp; Video</td>\n",
       "      <td>USD</td>\n",
       "      <td>2017-11-01</td>\n",
       "      <td>30000.0</td>\n",
       "      <td>2017-09-02 04:43:57</td>\n",
       "      <td>2421.00</td>\n",
       "      <td>failed</td>\n",
       "      <td>15</td>\n",
       "      <td>US</td>\n",
       "      <td>100.00</td>\n",
       "      <td>2421.00</td>\n",
       "      <td>30000.00</td>\n",
       "      <td>2017</td>\n",
       "    </tr>\n",
       "    <tr>\n",
       "      <th>2013-01-12 00:20:50</th>\n",
       "      <td>1000004038</td>\n",
       "      <td>Where is Hank?</td>\n",
       "      <td>Narrative Film</td>\n",
       "      <td>Film &amp; Video</td>\n",
       "      <td>USD</td>\n",
       "      <td>2013-02-26</td>\n",
       "      <td>45000.0</td>\n",
       "      <td>2013-01-12 00:20:50</td>\n",
       "      <td>220.00</td>\n",
       "      <td>failed</td>\n",
       "      <td>3</td>\n",
       "      <td>US</td>\n",
       "      <td>220.00</td>\n",
       "      <td>220.00</td>\n",
       "      <td>45000.00</td>\n",
       "      <td>2013</td>\n",
       "    </tr>\n",
       "    <tr>\n",
       "      <th>2012-03-17 03:24:11</th>\n",
       "      <td>1000007540</td>\n",
       "      <td>ToshiCapital Rekordz Needs Help to Complete Album</td>\n",
       "      <td>Music</td>\n",
       "      <td>Music</td>\n",
       "      <td>USD</td>\n",
       "      <td>2012-04-16</td>\n",
       "      <td>5000.0</td>\n",
       "      <td>2012-03-17 03:24:11</td>\n",
       "      <td>1.00</td>\n",
       "      <td>failed</td>\n",
       "      <td>1</td>\n",
       "      <td>US</td>\n",
       "      <td>1.00</td>\n",
       "      <td>1.00</td>\n",
       "      <td>5000.00</td>\n",
       "      <td>2012</td>\n",
       "    </tr>\n",
       "    <tr>\n",
       "      <th>2015-07-04 08:35:03</th>\n",
       "      <td>1000011046</td>\n",
       "      <td>Community Film Project: The Art of Neighborhoo...</td>\n",
       "      <td>Film &amp; Video</td>\n",
       "      <td>Film &amp; Video</td>\n",
       "      <td>USD</td>\n",
       "      <td>2015-08-29</td>\n",
       "      <td>19500.0</td>\n",
       "      <td>2015-07-04 08:35:03</td>\n",
       "      <td>1283.00</td>\n",
       "      <td>canceled</td>\n",
       "      <td>14</td>\n",
       "      <td>US</td>\n",
       "      <td>1283.00</td>\n",
       "      <td>1283.00</td>\n",
       "      <td>19500.00</td>\n",
       "      <td>2015</td>\n",
       "    </tr>\n",
       "    <tr>\n",
       "      <th>2016-02-26 13:38:27</th>\n",
       "      <td>1000014025</td>\n",
       "      <td>Monarch Espresso Bar</td>\n",
       "      <td>Restaurants</td>\n",
       "      <td>Food</td>\n",
       "      <td>USD</td>\n",
       "      <td>2016-04-01</td>\n",
       "      <td>50000.0</td>\n",
       "      <td>2016-02-26 13:38:27</td>\n",
       "      <td>52375.00</td>\n",
       "      <td>successful</td>\n",
       "      <td>224</td>\n",
       "      <td>US</td>\n",
       "      <td>52375.00</td>\n",
       "      <td>52375.00</td>\n",
       "      <td>50000.00</td>\n",
       "      <td>2016</td>\n",
       "    </tr>\n",
       "    <tr>\n",
       "      <th>2014-12-01 18:30:44</th>\n",
       "      <td>1000023410</td>\n",
       "      <td>Support Solar Roasted Coffee &amp; Green Energy!  ...</td>\n",
       "      <td>Food</td>\n",
       "      <td>Food</td>\n",
       "      <td>USD</td>\n",
       "      <td>2014-12-21</td>\n",
       "      <td>1000.0</td>\n",
       "      <td>2014-12-01 18:30:44</td>\n",
       "      <td>1205.00</td>\n",
       "      <td>successful</td>\n",
       "      <td>16</td>\n",
       "      <td>US</td>\n",
       "      <td>1205.00</td>\n",
       "      <td>1205.00</td>\n",
       "      <td>1000.00</td>\n",
       "      <td>2014</td>\n",
       "    </tr>\n",
       "    <tr>\n",
       "      <th>2016-02-01 20:05:12</th>\n",
       "      <td>1000030581</td>\n",
       "      <td>Chaser Strips. Our Strips make Shots their B*tch!</td>\n",
       "      <td>Drinks</td>\n",
       "      <td>Food</td>\n",
       "      <td>USD</td>\n",
       "      <td>2016-03-17</td>\n",
       "      <td>25000.0</td>\n",
       "      <td>2016-02-01 20:05:12</td>\n",
       "      <td>453.00</td>\n",
       "      <td>failed</td>\n",
       "      <td>40</td>\n",
       "      <td>US</td>\n",
       "      <td>453.00</td>\n",
       "      <td>453.00</td>\n",
       "      <td>25000.00</td>\n",
       "      <td>2016</td>\n",
       "    </tr>\n",
       "    <tr>\n",
       "      <th>2014-04-24 18:14:43</th>\n",
       "      <td>1000034518</td>\n",
       "      <td>SPIN - Premium Retractable In-Ear Headphones w...</td>\n",
       "      <td>Product Design</td>\n",
       "      <td>Design</td>\n",
       "      <td>USD</td>\n",
       "      <td>2014-05-29</td>\n",
       "      <td>125000.0</td>\n",
       "      <td>2014-04-24 18:14:43</td>\n",
       "      <td>8233.00</td>\n",
       "      <td>canceled</td>\n",
       "      <td>58</td>\n",
       "      <td>US</td>\n",
       "      <td>8233.00</td>\n",
       "      <td>8233.00</td>\n",
       "      <td>125000.00</td>\n",
       "      <td>2014</td>\n",
       "    </tr>\n",
       "    <tr>\n",
       "      <th>2014-07-11 21:55:48</th>\n",
       "      <td>100004195</td>\n",
       "      <td>STUDIO IN THE SKY - A Documentary Feature Film...</td>\n",
       "      <td>Documentary</td>\n",
       "      <td>Film &amp; Video</td>\n",
       "      <td>USD</td>\n",
       "      <td>2014-08-10</td>\n",
       "      <td>65000.0</td>\n",
       "      <td>2014-07-11 21:55:48</td>\n",
       "      <td>6240.57</td>\n",
       "      <td>canceled</td>\n",
       "      <td>43</td>\n",
       "      <td>US</td>\n",
       "      <td>6240.57</td>\n",
       "      <td>6240.57</td>\n",
       "      <td>65000.00</td>\n",
       "      <td>2014</td>\n",
       "    </tr>\n",
       "    <tr>\n",
       "      <th>2013-09-09 18:19:37</th>\n",
       "      <td>100004721</td>\n",
       "      <td>Of Jesus and Madmen</td>\n",
       "      <td>Nonfiction</td>\n",
       "      <td>Publishing</td>\n",
       "      <td>CAD</td>\n",
       "      <td>2013-10-09</td>\n",
       "      <td>2500.0</td>\n",
       "      <td>2013-09-09 18:19:37</td>\n",
       "      <td>0.00</td>\n",
       "      <td>failed</td>\n",
       "      <td>0</td>\n",
       "      <td>CA</td>\n",
       "      <td>0.00</td>\n",
       "      <td>0.00</td>\n",
       "      <td>2406.39</td>\n",
       "      <td>2013</td>\n",
       "    </tr>\n",
       "    <tr>\n",
       "      <th>2013-03-09 06:42:58</th>\n",
       "      <td>100005484</td>\n",
       "      <td>Lisa Lim New CD!</td>\n",
       "      <td>Indie Rock</td>\n",
       "      <td>Music</td>\n",
       "      <td>USD</td>\n",
       "      <td>2013-04-08</td>\n",
       "      <td>12500.0</td>\n",
       "      <td>2013-03-09 06:42:58</td>\n",
       "      <td>12700.00</td>\n",
       "      <td>successful</td>\n",
       "      <td>100</td>\n",
       "      <td>US</td>\n",
       "      <td>12700.00</td>\n",
       "      <td>12700.00</td>\n",
       "      <td>12500.00</td>\n",
       "      <td>2013</td>\n",
       "    </tr>\n",
       "    <tr>\n",
       "      <th>2014-09-02 17:11:50</th>\n",
       "      <td>1000055792</td>\n",
       "      <td>The Cottage Market</td>\n",
       "      <td>Crafts</td>\n",
       "      <td>Crafts</td>\n",
       "      <td>USD</td>\n",
       "      <td>2014-10-02</td>\n",
       "      <td>5000.0</td>\n",
       "      <td>2014-09-02 17:11:50</td>\n",
       "      <td>0.00</td>\n",
       "      <td>failed</td>\n",
       "      <td>0</td>\n",
       "      <td>US</td>\n",
       "      <td>0.00</td>\n",
       "      <td>0.00</td>\n",
       "      <td>5000.00</td>\n",
       "      <td>2014</td>\n",
       "    </tr>\n",
       "    <tr>\n",
       "      <th>2016-02-09 23:01:12</th>\n",
       "      <td>1000056157</td>\n",
       "      <td>G-Spot Place for Gamers to connect with eachot...</td>\n",
       "      <td>Games</td>\n",
       "      <td>Games</td>\n",
       "      <td>USD</td>\n",
       "      <td>2016-03-25</td>\n",
       "      <td>200000.0</td>\n",
       "      <td>2016-02-09 23:01:12</td>\n",
       "      <td>0.00</td>\n",
       "      <td>failed</td>\n",
       "      <td>0</td>\n",
       "      <td>US</td>\n",
       "      <td>0.00</td>\n",
       "      <td>0.00</td>\n",
       "      <td>200000.00</td>\n",
       "      <td>2016</td>\n",
       "    </tr>\n",
       "    <tr>\n",
       "      <th>2017-04-05 19:44:18</th>\n",
       "      <td>1000057089</td>\n",
       "      <td>Tombstone: Old West tabletop game and miniatur...</td>\n",
       "      <td>Tabletop Games</td>\n",
       "      <td>Games</td>\n",
       "      <td>GBP</td>\n",
       "      <td>2017-05-03</td>\n",
       "      <td>5000.0</td>\n",
       "      <td>2017-04-05 19:44:18</td>\n",
       "      <td>94175.00</td>\n",
       "      <td>successful</td>\n",
       "      <td>761</td>\n",
       "      <td>GB</td>\n",
       "      <td>57763.78</td>\n",
       "      <td>121857.33</td>\n",
       "      <td>6469.73</td>\n",
       "      <td>2017</td>\n",
       "    </tr>\n",
       "    <tr>\n",
       "      <th>2015-01-29 02:10:53</th>\n",
       "      <td>1000064368</td>\n",
       "      <td>Survival Rings</td>\n",
       "      <td>Design</td>\n",
       "      <td>Design</td>\n",
       "      <td>USD</td>\n",
       "      <td>2015-02-28</td>\n",
       "      <td>2500.0</td>\n",
       "      <td>2015-01-29 02:10:53</td>\n",
       "      <td>664.00</td>\n",
       "      <td>failed</td>\n",
       "      <td>11</td>\n",
       "      <td>US</td>\n",
       "      <td>664.00</td>\n",
       "      <td>664.00</td>\n",
       "      <td>2500.00</td>\n",
       "      <td>2015</td>\n",
       "    </tr>\n",
       "    <tr>\n",
       "      <th>2014-10-09 22:27:52</th>\n",
       "      <td>1000064918</td>\n",
       "      <td>The Beard</td>\n",
       "      <td>Comic Books</td>\n",
       "      <td>Comics</td>\n",
       "      <td>USD</td>\n",
       "      <td>2014-11-08</td>\n",
       "      <td>1500.0</td>\n",
       "      <td>2014-10-09 22:27:52</td>\n",
       "      <td>395.00</td>\n",
       "      <td>failed</td>\n",
       "      <td>16</td>\n",
       "      <td>US</td>\n",
       "      <td>395.00</td>\n",
       "      <td>395.00</td>\n",
       "      <td>1500.00</td>\n",
       "      <td>2014</td>\n",
       "    </tr>\n",
       "    <tr>\n",
       "      <th>2015-04-10 21:20:54</th>\n",
       "      <td>1000068480</td>\n",
       "      <td>Notes From London: Above &amp; Below</td>\n",
       "      <td>Art Books</td>\n",
       "      <td>Publishing</td>\n",
       "      <td>USD</td>\n",
       "      <td>2015-05-10</td>\n",
       "      <td>3000.0</td>\n",
       "      <td>2015-04-10 21:20:54</td>\n",
       "      <td>789.00</td>\n",
       "      <td>failed</td>\n",
       "      <td>20</td>\n",
       "      <td>US</td>\n",
       "      <td>789.00</td>\n",
       "      <td>789.00</td>\n",
       "      <td>3000.00</td>\n",
       "      <td>2015</td>\n",
       "    </tr>\n",
       "    <tr>\n",
       "      <th>2012-08-02 14:11:32</th>\n",
       "      <td>1000070642</td>\n",
       "      <td>Mike Corey's Darkness &amp; Light Album</td>\n",
       "      <td>Music</td>\n",
       "      <td>Music</td>\n",
       "      <td>USD</td>\n",
       "      <td>2012-08-17</td>\n",
       "      <td>250.0</td>\n",
       "      <td>2012-08-02 14:11:32</td>\n",
       "      <td>250.00</td>\n",
       "      <td>successful</td>\n",
       "      <td>7</td>\n",
       "      <td>US</td>\n",
       "      <td>250.00</td>\n",
       "      <td>250.00</td>\n",
       "      <td>250.00</td>\n",
       "      <td>2012</td>\n",
       "    </tr>\n",
       "    <tr>\n",
       "      <th>2012-05-03 17:24:32</th>\n",
       "      <td>1000071625</td>\n",
       "      <td>Boco Tea</td>\n",
       "      <td>Food</td>\n",
       "      <td>Food</td>\n",
       "      <td>USD</td>\n",
       "      <td>2012-06-02</td>\n",
       "      <td>5000.0</td>\n",
       "      <td>2012-05-03 17:24:32</td>\n",
       "      <td>1781.00</td>\n",
       "      <td>failed</td>\n",
       "      <td>40</td>\n",
       "      <td>US</td>\n",
       "      <td>1781.00</td>\n",
       "      <td>1781.00</td>\n",
       "      <td>5000.00</td>\n",
       "      <td>2012</td>\n",
       "    </tr>\n",
       "  </tbody>\n",
       "</table>\n",
       "</div>"
      ],
      "text/plain": [
       "                             ID  \\\n",
       "2015-08-11 12:12:28  1000002330   \n",
       "2017-09-02 04:43:57  1000003930   \n",
       "2013-01-12 00:20:50  1000004038   \n",
       "2012-03-17 03:24:11  1000007540   \n",
       "2015-07-04 08:35:03  1000011046   \n",
       "2016-02-26 13:38:27  1000014025   \n",
       "2014-12-01 18:30:44  1000023410   \n",
       "2016-02-01 20:05:12  1000030581   \n",
       "2014-04-24 18:14:43  1000034518   \n",
       "2014-07-11 21:55:48   100004195   \n",
       "2013-09-09 18:19:37   100004721   \n",
       "2013-03-09 06:42:58   100005484   \n",
       "2014-09-02 17:11:50  1000055792   \n",
       "2016-02-09 23:01:12  1000056157   \n",
       "2017-04-05 19:44:18  1000057089   \n",
       "2015-01-29 02:10:53  1000064368   \n",
       "2014-10-09 22:27:52  1000064918   \n",
       "2015-04-10 21:20:54  1000068480   \n",
       "2012-08-02 14:11:32  1000070642   \n",
       "2012-05-03 17:24:32  1000071625   \n",
       "\n",
       "                                                                  name  \\\n",
       "2015-08-11 12:12:28                    The Songs of Adelaide & Abullah   \n",
       "2017-09-02 04:43:57      Greeting From Earth: ZGAC Arts Capsule For ET   \n",
       "2013-01-12 00:20:50                                     Where is Hank?   \n",
       "2012-03-17 03:24:11  ToshiCapital Rekordz Needs Help to Complete Album   \n",
       "2015-07-04 08:35:03  Community Film Project: The Art of Neighborhoo...   \n",
       "2016-02-26 13:38:27                               Monarch Espresso Bar   \n",
       "2014-12-01 18:30:44  Support Solar Roasted Coffee & Green Energy!  ...   \n",
       "2016-02-01 20:05:12  Chaser Strips. Our Strips make Shots their B*tch!   \n",
       "2014-04-24 18:14:43  SPIN - Premium Retractable In-Ear Headphones w...   \n",
       "2014-07-11 21:55:48  STUDIO IN THE SKY - A Documentary Feature Film...   \n",
       "2013-09-09 18:19:37                                Of Jesus and Madmen   \n",
       "2013-03-09 06:42:58                                   Lisa Lim New CD!   \n",
       "2014-09-02 17:11:50                                 The Cottage Market   \n",
       "2016-02-09 23:01:12  G-Spot Place for Gamers to connect with eachot...   \n",
       "2017-04-05 19:44:18  Tombstone: Old West tabletop game and miniatur...   \n",
       "2015-01-29 02:10:53                                     Survival Rings   \n",
       "2014-10-09 22:27:52                                          The Beard   \n",
       "2015-04-10 21:20:54                   Notes From London: Above & Below   \n",
       "2012-08-02 14:11:32                Mike Corey's Darkness & Light Album   \n",
       "2012-05-03 17:24:32                                           Boco Tea   \n",
       "\n",
       "                           category main_category currency   deadline  \\\n",
       "2015-08-11 12:12:28          Poetry    Publishing      GBP 2015-10-09   \n",
       "2017-09-02 04:43:57  Narrative Film  Film & Video      USD 2017-11-01   \n",
       "2013-01-12 00:20:50  Narrative Film  Film & Video      USD 2013-02-26   \n",
       "2012-03-17 03:24:11           Music         Music      USD 2012-04-16   \n",
       "2015-07-04 08:35:03    Film & Video  Film & Video      USD 2015-08-29   \n",
       "2016-02-26 13:38:27     Restaurants          Food      USD 2016-04-01   \n",
       "2014-12-01 18:30:44            Food          Food      USD 2014-12-21   \n",
       "2016-02-01 20:05:12          Drinks          Food      USD 2016-03-17   \n",
       "2014-04-24 18:14:43  Product Design        Design      USD 2014-05-29   \n",
       "2014-07-11 21:55:48     Documentary  Film & Video      USD 2014-08-10   \n",
       "2013-09-09 18:19:37      Nonfiction    Publishing      CAD 2013-10-09   \n",
       "2013-03-09 06:42:58      Indie Rock         Music      USD 2013-04-08   \n",
       "2014-09-02 17:11:50          Crafts        Crafts      USD 2014-10-02   \n",
       "2016-02-09 23:01:12           Games         Games      USD 2016-03-25   \n",
       "2017-04-05 19:44:18  Tabletop Games         Games      GBP 2017-05-03   \n",
       "2015-01-29 02:10:53          Design        Design      USD 2015-02-28   \n",
       "2014-10-09 22:27:52     Comic Books        Comics      USD 2014-11-08   \n",
       "2015-04-10 21:20:54       Art Books    Publishing      USD 2015-05-10   \n",
       "2012-08-02 14:11:32           Music         Music      USD 2012-08-17   \n",
       "2012-05-03 17:24:32            Food          Food      USD 2012-06-02   \n",
       "\n",
       "                         goal            launched   pledged       state  \\\n",
       "2015-08-11 12:12:28    1000.0 2015-08-11 12:12:28      0.00      failed   \n",
       "2017-09-02 04:43:57   30000.0 2017-09-02 04:43:57   2421.00      failed   \n",
       "2013-01-12 00:20:50   45000.0 2013-01-12 00:20:50    220.00      failed   \n",
       "2012-03-17 03:24:11    5000.0 2012-03-17 03:24:11      1.00      failed   \n",
       "2015-07-04 08:35:03   19500.0 2015-07-04 08:35:03   1283.00    canceled   \n",
       "2016-02-26 13:38:27   50000.0 2016-02-26 13:38:27  52375.00  successful   \n",
       "2014-12-01 18:30:44    1000.0 2014-12-01 18:30:44   1205.00  successful   \n",
       "2016-02-01 20:05:12   25000.0 2016-02-01 20:05:12    453.00      failed   \n",
       "2014-04-24 18:14:43  125000.0 2014-04-24 18:14:43   8233.00    canceled   \n",
       "2014-07-11 21:55:48   65000.0 2014-07-11 21:55:48   6240.57    canceled   \n",
       "2013-09-09 18:19:37    2500.0 2013-09-09 18:19:37      0.00      failed   \n",
       "2013-03-09 06:42:58   12500.0 2013-03-09 06:42:58  12700.00  successful   \n",
       "2014-09-02 17:11:50    5000.0 2014-09-02 17:11:50      0.00      failed   \n",
       "2016-02-09 23:01:12  200000.0 2016-02-09 23:01:12      0.00      failed   \n",
       "2017-04-05 19:44:18    5000.0 2017-04-05 19:44:18  94175.00  successful   \n",
       "2015-01-29 02:10:53    2500.0 2015-01-29 02:10:53    664.00      failed   \n",
       "2014-10-09 22:27:52    1500.0 2014-10-09 22:27:52    395.00      failed   \n",
       "2015-04-10 21:20:54    3000.0 2015-04-10 21:20:54    789.00      failed   \n",
       "2012-08-02 14:11:32     250.0 2012-08-02 14:11:32    250.00  successful   \n",
       "2012-05-03 17:24:32    5000.0 2012-05-03 17:24:32   1781.00      failed   \n",
       "\n",
       "                     backers country  usd pledged  usd_pledged_real  \\\n",
       "2015-08-11 12:12:28        0      GB         0.00              0.00   \n",
       "2017-09-02 04:43:57       15      US       100.00           2421.00   \n",
       "2013-01-12 00:20:50        3      US       220.00            220.00   \n",
       "2012-03-17 03:24:11        1      US         1.00              1.00   \n",
       "2015-07-04 08:35:03       14      US      1283.00           1283.00   \n",
       "2016-02-26 13:38:27      224      US     52375.00          52375.00   \n",
       "2014-12-01 18:30:44       16      US      1205.00           1205.00   \n",
       "2016-02-01 20:05:12       40      US       453.00            453.00   \n",
       "2014-04-24 18:14:43       58      US      8233.00           8233.00   \n",
       "2014-07-11 21:55:48       43      US      6240.57           6240.57   \n",
       "2013-09-09 18:19:37        0      CA         0.00              0.00   \n",
       "2013-03-09 06:42:58      100      US     12700.00          12700.00   \n",
       "2014-09-02 17:11:50        0      US         0.00              0.00   \n",
       "2016-02-09 23:01:12        0      US         0.00              0.00   \n",
       "2017-04-05 19:44:18      761      GB     57763.78         121857.33   \n",
       "2015-01-29 02:10:53       11      US       664.00            664.00   \n",
       "2014-10-09 22:27:52       16      US       395.00            395.00   \n",
       "2015-04-10 21:20:54       20      US       789.00            789.00   \n",
       "2012-08-02 14:11:32        7      US       250.00            250.00   \n",
       "2012-05-03 17:24:32       40      US      1781.00           1781.00   \n",
       "\n",
       "                     usd_goal_real  launched_year  \n",
       "2015-08-11 12:12:28        1533.95           2015  \n",
       "2017-09-02 04:43:57       30000.00           2017  \n",
       "2013-01-12 00:20:50       45000.00           2013  \n",
       "2012-03-17 03:24:11        5000.00           2012  \n",
       "2015-07-04 08:35:03       19500.00           2015  \n",
       "2016-02-26 13:38:27       50000.00           2016  \n",
       "2014-12-01 18:30:44        1000.00           2014  \n",
       "2016-02-01 20:05:12       25000.00           2016  \n",
       "2014-04-24 18:14:43      125000.00           2014  \n",
       "2014-07-11 21:55:48       65000.00           2014  \n",
       "2013-09-09 18:19:37        2406.39           2013  \n",
       "2013-03-09 06:42:58       12500.00           2013  \n",
       "2014-09-02 17:11:50        5000.00           2014  \n",
       "2016-02-09 23:01:12      200000.00           2016  \n",
       "2017-04-05 19:44:18        6469.73           2017  \n",
       "2015-01-29 02:10:53        2500.00           2015  \n",
       "2014-10-09 22:27:52        1500.00           2014  \n",
       "2015-04-10 21:20:54        3000.00           2015  \n",
       "2012-08-02 14:11:32         250.00           2012  \n",
       "2012-05-03 17:24:32        5000.00           2012  "
      ]
     },
     "execution_count": 197,
     "metadata": {},
     "output_type": "execute_result"
    }
   ],
   "source": [
    "df.head(20)"
   ]
  },
  {
   "cell_type": "code",
   "execution_count": 158,
   "metadata": {},
   "outputs": [
    {
     "data": {
      "text/plain": [
       "(378654, 15)"
      ]
     },
     "execution_count": 158,
     "metadata": {},
     "output_type": "execute_result"
    }
   ],
   "source": [
    "df.shape"
   ]
  },
  {
   "cell_type": "code",
   "execution_count": 159,
   "metadata": {},
   "outputs": [],
   "source": [
    "summary = DataFrameSummary(df)"
   ]
  },
  {
   "cell_type": "code",
   "execution_count": 160,
   "metadata": {},
   "outputs": [
    {
     "data": {
      "text/html": [
       "<div>\n",
       "<style scoped>\n",
       "    .dataframe tbody tr th:only-of-type {\n",
       "        vertical-align: middle;\n",
       "    }\n",
       "\n",
       "    .dataframe tbody tr th {\n",
       "        vertical-align: top;\n",
       "    }\n",
       "\n",
       "    .dataframe thead th {\n",
       "        text-align: right;\n",
       "    }\n",
       "</style>\n",
       "<table border=\"1\" class=\"dataframe\">\n",
       "  <thead>\n",
       "    <tr style=\"text-align: right;\">\n",
       "      <th></th>\n",
       "      <th>ID</th>\n",
       "      <th>name</th>\n",
       "      <th>category</th>\n",
       "      <th>main_category</th>\n",
       "      <th>currency</th>\n",
       "      <th>deadline</th>\n",
       "      <th>goal</th>\n",
       "      <th>launched</th>\n",
       "      <th>pledged</th>\n",
       "      <th>state</th>\n",
       "      <th>backers</th>\n",
       "      <th>country</th>\n",
       "      <th>usd pledged</th>\n",
       "      <th>usd_pledged_real</th>\n",
       "      <th>usd_goal_real</th>\n",
       "    </tr>\n",
       "  </thead>\n",
       "  <tbody>\n",
       "    <tr>\n",
       "      <th>count</th>\n",
       "      <td>378654</td>\n",
       "      <td>NaN</td>\n",
       "      <td>NaN</td>\n",
       "      <td>NaN</td>\n",
       "      <td>NaN</td>\n",
       "      <td>NaN</td>\n",
       "      <td>378654</td>\n",
       "      <td>NaN</td>\n",
       "      <td>378654</td>\n",
       "      <td>NaN</td>\n",
       "      <td>378654</td>\n",
       "      <td>NaN</td>\n",
       "      <td>374857</td>\n",
       "      <td>378654</td>\n",
       "      <td>378654</td>\n",
       "    </tr>\n",
       "    <tr>\n",
       "      <th>mean</th>\n",
       "      <td>1.07474e+09</td>\n",
       "      <td>NaN</td>\n",
       "      <td>NaN</td>\n",
       "      <td>NaN</td>\n",
       "      <td>NaN</td>\n",
       "      <td>NaN</td>\n",
       "      <td>49081.6</td>\n",
       "      <td>NaN</td>\n",
       "      <td>9683.16</td>\n",
       "      <td>NaN</td>\n",
       "      <td>105.619</td>\n",
       "      <td>NaN</td>\n",
       "      <td>7036.86</td>\n",
       "      <td>9059.09</td>\n",
       "      <td>45455.1</td>\n",
       "    </tr>\n",
       "    <tr>\n",
       "      <th>std</th>\n",
       "      <td>6.19087e+08</td>\n",
       "      <td>NaN</td>\n",
       "      <td>NaN</td>\n",
       "      <td>NaN</td>\n",
       "      <td>NaN</td>\n",
       "      <td>NaN</td>\n",
       "      <td>1.1834e+06</td>\n",
       "      <td>NaN</td>\n",
       "      <td>95636.9</td>\n",
       "      <td>NaN</td>\n",
       "      <td>907.193</td>\n",
       "      <td>NaN</td>\n",
       "      <td>78640.5</td>\n",
       "      <td>90974.2</td>\n",
       "      <td>1.15296e+06</td>\n",
       "    </tr>\n",
       "    <tr>\n",
       "      <th>min</th>\n",
       "      <td>5971</td>\n",
       "      <td>NaN</td>\n",
       "      <td>NaN</td>\n",
       "      <td>NaN</td>\n",
       "      <td>NaN</td>\n",
       "      <td>NaN</td>\n",
       "      <td>0.01</td>\n",
       "      <td>NaN</td>\n",
       "      <td>0</td>\n",
       "      <td>NaN</td>\n",
       "      <td>0</td>\n",
       "      <td>NaN</td>\n",
       "      <td>0</td>\n",
       "      <td>0</td>\n",
       "      <td>0.01</td>\n",
       "    </tr>\n",
       "    <tr>\n",
       "      <th>25%</th>\n",
       "      <td>5.3827e+08</td>\n",
       "      <td>NaN</td>\n",
       "      <td>NaN</td>\n",
       "      <td>NaN</td>\n",
       "      <td>NaN</td>\n",
       "      <td>NaN</td>\n",
       "      <td>2000</td>\n",
       "      <td>NaN</td>\n",
       "      <td>30</td>\n",
       "      <td>NaN</td>\n",
       "      <td>2</td>\n",
       "      <td>NaN</td>\n",
       "      <td>16.98</td>\n",
       "      <td>31</td>\n",
       "      <td>2000</td>\n",
       "    </tr>\n",
       "    <tr>\n",
       "      <th>50%</th>\n",
       "      <td>1.07528e+09</td>\n",
       "      <td>NaN</td>\n",
       "      <td>NaN</td>\n",
       "      <td>NaN</td>\n",
       "      <td>NaN</td>\n",
       "      <td>NaN</td>\n",
       "      <td>5200</td>\n",
       "      <td>NaN</td>\n",
       "      <td>620</td>\n",
       "      <td>NaN</td>\n",
       "      <td>12</td>\n",
       "      <td>NaN</td>\n",
       "      <td>394.79</td>\n",
       "      <td>624.465</td>\n",
       "      <td>5500</td>\n",
       "    </tr>\n",
       "    <tr>\n",
       "      <th>75%</th>\n",
       "      <td>1.61016e+09</td>\n",
       "      <td>NaN</td>\n",
       "      <td>NaN</td>\n",
       "      <td>NaN</td>\n",
       "      <td>NaN</td>\n",
       "      <td>NaN</td>\n",
       "      <td>16000</td>\n",
       "      <td>NaN</td>\n",
       "      <td>4076</td>\n",
       "      <td>NaN</td>\n",
       "      <td>56</td>\n",
       "      <td>NaN</td>\n",
       "      <td>3034.62</td>\n",
       "      <td>4050</td>\n",
       "      <td>15500</td>\n",
       "    </tr>\n",
       "    <tr>\n",
       "      <th>max</th>\n",
       "      <td>2.14748e+09</td>\n",
       "      <td>NaN</td>\n",
       "      <td>NaN</td>\n",
       "      <td>NaN</td>\n",
       "      <td>NaN</td>\n",
       "      <td>NaN</td>\n",
       "      <td>1e+08</td>\n",
       "      <td>NaN</td>\n",
       "      <td>2.0339e+07</td>\n",
       "      <td>NaN</td>\n",
       "      <td>219382</td>\n",
       "      <td>NaN</td>\n",
       "      <td>2.0339e+07</td>\n",
       "      <td>2.0339e+07</td>\n",
       "      <td>1.66361e+08</td>\n",
       "    </tr>\n",
       "    <tr>\n",
       "      <th>counts</th>\n",
       "      <td>378654</td>\n",
       "      <td>378650</td>\n",
       "      <td>378654</td>\n",
       "      <td>378654</td>\n",
       "      <td>378654</td>\n",
       "      <td>378654</td>\n",
       "      <td>378654</td>\n",
       "      <td>378654</td>\n",
       "      <td>378654</td>\n",
       "      <td>378654</td>\n",
       "      <td>378654</td>\n",
       "      <td>378654</td>\n",
       "      <td>374857</td>\n",
       "      <td>378654</td>\n",
       "      <td>378654</td>\n",
       "    </tr>\n",
       "    <tr>\n",
       "      <th>uniques</th>\n",
       "      <td>378654</td>\n",
       "      <td>375757</td>\n",
       "      <td>159</td>\n",
       "      <td>15</td>\n",
       "      <td>14</td>\n",
       "      <td>3164</td>\n",
       "      <td>8353</td>\n",
       "      <td>378088</td>\n",
       "      <td>62130</td>\n",
       "      <td>6</td>\n",
       "      <td>3963</td>\n",
       "      <td>23</td>\n",
       "      <td>95455</td>\n",
       "      <td>106065</td>\n",
       "      <td>50338</td>\n",
       "    </tr>\n",
       "    <tr>\n",
       "      <th>missing</th>\n",
       "      <td>0</td>\n",
       "      <td>4</td>\n",
       "      <td>0</td>\n",
       "      <td>0</td>\n",
       "      <td>0</td>\n",
       "      <td>0</td>\n",
       "      <td>0</td>\n",
       "      <td>0</td>\n",
       "      <td>0</td>\n",
       "      <td>0</td>\n",
       "      <td>0</td>\n",
       "      <td>0</td>\n",
       "      <td>3797</td>\n",
       "      <td>0</td>\n",
       "      <td>0</td>\n",
       "    </tr>\n",
       "    <tr>\n",
       "      <th>missing_perc</th>\n",
       "      <td>0%</td>\n",
       "      <td>0.00%</td>\n",
       "      <td>0%</td>\n",
       "      <td>0%</td>\n",
       "      <td>0%</td>\n",
       "      <td>0%</td>\n",
       "      <td>0%</td>\n",
       "      <td>0%</td>\n",
       "      <td>0%</td>\n",
       "      <td>0%</td>\n",
       "      <td>0%</td>\n",
       "      <td>0%</td>\n",
       "      <td>1.00%</td>\n",
       "      <td>0%</td>\n",
       "      <td>0%</td>\n",
       "    </tr>\n",
       "    <tr>\n",
       "      <th>types</th>\n",
       "      <td>numeric</td>\n",
       "      <td>categorical</td>\n",
       "      <td>categorical</td>\n",
       "      <td>categorical</td>\n",
       "      <td>categorical</td>\n",
       "      <td>date</td>\n",
       "      <td>numeric</td>\n",
       "      <td>date</td>\n",
       "      <td>numeric</td>\n",
       "      <td>categorical</td>\n",
       "      <td>numeric</td>\n",
       "      <td>categorical</td>\n",
       "      <td>numeric</td>\n",
       "      <td>numeric</td>\n",
       "      <td>numeric</td>\n",
       "    </tr>\n",
       "  </tbody>\n",
       "</table>\n",
       "</div>"
      ],
      "text/plain": [
       "                       ID         name     category main_category  \\\n",
       "count              378654          NaN          NaN           NaN   \n",
       "mean          1.07474e+09          NaN          NaN           NaN   \n",
       "std           6.19087e+08          NaN          NaN           NaN   \n",
       "min                  5971          NaN          NaN           NaN   \n",
       "25%            5.3827e+08          NaN          NaN           NaN   \n",
       "50%           1.07528e+09          NaN          NaN           NaN   \n",
       "75%           1.61016e+09          NaN          NaN           NaN   \n",
       "max           2.14748e+09          NaN          NaN           NaN   \n",
       "counts             378654       378650       378654        378654   \n",
       "uniques            378654       375757          159            15   \n",
       "missing                 0            4            0             0   \n",
       "missing_perc           0%        0.00%           0%            0%   \n",
       "types             numeric  categorical  categorical   categorical   \n",
       "\n",
       "                 currency deadline        goal launched     pledged  \\\n",
       "count                 NaN      NaN      378654      NaN      378654   \n",
       "mean                  NaN      NaN     49081.6      NaN     9683.16   \n",
       "std                   NaN      NaN  1.1834e+06      NaN     95636.9   \n",
       "min                   NaN      NaN        0.01      NaN           0   \n",
       "25%                   NaN      NaN        2000      NaN          30   \n",
       "50%                   NaN      NaN        5200      NaN         620   \n",
       "75%                   NaN      NaN       16000      NaN        4076   \n",
       "max                   NaN      NaN       1e+08      NaN  2.0339e+07   \n",
       "counts             378654   378654      378654   378654      378654   \n",
       "uniques                14     3164        8353   378088       62130   \n",
       "missing                 0        0           0        0           0   \n",
       "missing_perc           0%       0%          0%       0%          0%   \n",
       "types         categorical     date     numeric     date     numeric   \n",
       "\n",
       "                    state  backers      country usd pledged usd_pledged_real  \\\n",
       "count                 NaN   378654          NaN      374857           378654   \n",
       "mean                  NaN  105.619          NaN     7036.86          9059.09   \n",
       "std                   NaN  907.193          NaN     78640.5          90974.2   \n",
       "min                   NaN        0          NaN           0                0   \n",
       "25%                   NaN        2          NaN       16.98               31   \n",
       "50%                   NaN       12          NaN      394.79          624.465   \n",
       "75%                   NaN       56          NaN     3034.62             4050   \n",
       "max                   NaN   219382          NaN  2.0339e+07       2.0339e+07   \n",
       "counts             378654   378654       378654      374857           378654   \n",
       "uniques                 6     3963           23       95455           106065   \n",
       "missing                 0        0            0        3797                0   \n",
       "missing_perc           0%       0%           0%       1.00%               0%   \n",
       "types         categorical  numeric  categorical     numeric          numeric   \n",
       "\n",
       "             usd_goal_real  \n",
       "count               378654  \n",
       "mean               45455.1  \n",
       "std            1.15296e+06  \n",
       "min                   0.01  \n",
       "25%                   2000  \n",
       "50%                   5500  \n",
       "75%                  15500  \n",
       "max            1.66361e+08  \n",
       "counts              378654  \n",
       "uniques              50338  \n",
       "missing                  0  \n",
       "missing_perc            0%  \n",
       "types              numeric  "
      ]
     },
     "execution_count": 160,
     "metadata": {},
     "output_type": "execute_result"
    }
   ],
   "source": [
    "summary.summary()"
   ]
  },
  {
   "cell_type": "markdown",
   "metadata": {},
   "source": [
    "# EDA"
   ]
  },
  {
   "cell_type": "markdown",
   "metadata": {},
   "source": [
    "the number of the projects (ID count)"
   ]
  },
  {
   "cell_type": "code",
   "execution_count": 162,
   "metadata": {},
   "outputs": [
    {
     "data": {
      "text/plain": [
       "378654"
      ]
     },
     "execution_count": 162,
     "metadata": {},
     "output_type": "execute_result"
    }
   ],
   "source": [
    "df.ID.nunique()"
   ]
  },
  {
   "cell_type": "markdown",
   "metadata": {},
   "source": [
    "how many fundings per year?"
   ]
  },
  {
   "cell_type": "code",
   "execution_count": 198,
   "metadata": {},
   "outputs": [],
   "source": [
    "_fund_per_year = df.groupby('launched_year')['pledged'].sum()\n",
    "fund_per_year = pd.DataFrame()\n",
    "fund_per_year['year'] = _fund_per_year.index.values\n",
    "fund_per_year['fund'] = _fund_per_year.values"
   ]
  },
  {
   "cell_type": "code",
   "execution_count": 202,
   "metadata": {},
   "outputs": [
    {
     "data": {
      "image/png": "[encoded data removed]",
      "text/plain": [
       "<Figure size 432x288 with 1 Axes>"
      ]
     },
     "metadata": {},
     "output_type": "display_data"
    }
   ],
   "source": [
    "g = sns.barplot(x='year', y='fund', data=fund_per_year[fund_per_year['year'] != 2018])\n",
    "plt.title(\"The pledge for the projects per year\");"
   ]
  },
  {
   "cell_type": "markdown",
   "metadata": {},
   "source": [
    "how many projects per year?"
   ]
  },
  {
   "cell_type": "code",
   "execution_count": 182,
   "metadata": {},
   "outputs": [],
   "source": [
    "_projects_per_year = df.groupby('launched_year')['ID'].count()\n",
    "projects_per_year = pd.DataFrame()\n",
    "projects_per_year['year'] = _projects_per_year.index.values\n",
    "projects_per_year['counts'] = _projects_per_year.values"
   ]
  },
  {
   "cell_type": "code",
   "execution_count": 189,
   "metadata": {},
   "outputs": [
    {
     "data": {
      "image/png": "[encoded data removed]",
      "text/plain": [
       "<Figure size 432x288 with 1 Axes>"
      ]
     },
     "metadata": {},
     "output_type": "display_data"
    }
   ],
   "source": [
    "g = sns.barplot(x='year', y='counts', data=projects_per_year)\n",
    "plt.title(\"The number of the projects per year\");"
   ]
  },
  {
   "cell_type": "markdown",
   "metadata": {},
   "source": [
    "category distributions"
   ]
  },
  {
   "cell_type": "code",
   "execution_count": 123,
   "metadata": {},
   "outputs": [
    {
     "data": {
      "image/png": "[encoded data removed]",
      "text/plain": [
       "<Figure size 1152x576 with 1 Axes>"
      ]
     },
     "metadata": {},
     "output_type": "display_data"
    }
   ],
   "source": [
    "plt.figure(figsize=(16, 8))\n",
    "sns.countplot(df['main_category']);"
   ]
  },
  {
   "cell_type": "markdown",
   "metadata": {},
   "source": [
    "goals distribtuions"
   ]
  },
  {
   "cell_type": "code",
   "execution_count": 120,
   "metadata": {},
   "outputs": [
    {
     "data": {
      "text/plain": [
       "<matplotlib.axes._subplots.AxesSubplot at 0x142896a58>"
      ]
     },
     "execution_count": 120,
     "metadata": {},
     "output_type": "execute_result"
    },
    {
     "data": {
      "image/png": "[encoded data removed]",
      "text/plain": [
       "<Figure size 1152x576 with 1 Axes>"
      ]
     },
     "metadata": {},
     "output_type": "display_data"
    }
   ],
   "source": [
    "plt.figure(figsize=(16, 8))\n",
    "df['goal'].hist()"
   ]
  },
  {
   "cell_type": "markdown",
   "metadata": {},
   "source": [
    "how many failed succeeded?"
   ]
  },
  {
   "cell_type": "code",
   "execution_count": 93,
   "metadata": {},
   "outputs": [],
   "source": [
    "state_counts = df.state.value_counts()\n",
    "state = pd.DataFrame()\n",
    "state['state'] = state_counts.index.values\n",
    "state['count'] = state_counts.values"
   ]
  },
  {
   "cell_type": "code",
   "execution_count": 115,
   "metadata": {},
   "outputs": [
    {
     "data": {
      "image/png": "[encoded data removed]",
      "text/plain": [
       "<Figure size 864x864 with 1 Axes>"
      ]
     },
     "metadata": {},
     "output_type": "display_data"
    }
   ],
   "source": [
    "plt.figure(figsize=(12, 12))\n",
    "plt.pie(state['count'].values, labels=state.state.values, autopct='%1.1f%%', startangle=180)\n",
    "plt.legend();"
   ]
  },
  {
   "cell_type": "markdown",
   "metadata": {},
   "source": [
    "country distributions"
   ]
  },
  {
   "cell_type": "code",
   "execution_count": 70,
   "metadata": {},
   "outputs": [],
   "source": [
    "country_counts = df.country.value_counts()\n",
    "country = pd.DataFrame()\n",
    "country['country'] = country_counts.index.values\n",
    "country['count'] = country_counts.values"
   ]
  },
  {
   "cell_type": "code",
   "execution_count": 103,
   "metadata": {},
   "outputs": [
    {
     "data": {
      "image/png": "[encoded data removed]",
      "text/plain": [
       "<Figure size 1152x576 with 1 Axes>"
      ]
     },
     "metadata": {},
     "output_type": "display_data"
    }
   ],
   "source": [
    "plt.figure(figsize=(16, 8))\n",
    "g = sns.countplot(df['country'].values)"
   ]
  },
  {
   "cell_type": "code",
   "execution_count": 71,
   "metadata": {},
   "outputs": [
    {
     "data": {
      "image/png": "[encoded data removed]",
      "text/plain": [
       "<Figure size 1152x576 with 1 Axes>"
      ]
     },
     "metadata": {},
     "output_type": "display_data"
    }
   ],
   "source": [
    "plt.figure(figsize=(16, 8))\n",
    "sns.barplot(x=\"country\", y=\"count\", data=country.head())\n",
    "plt.title(\"Top 5 countries\");"
   ]
  },
  {
   "cell_type": "markdown",
   "metadata": {},
   "source": [
    "# Question\n",
    "\n",
    "1. Are funding and projects increasing?\n",
    "2. What factors may be correlated with success/failure of projects?\n",
    "3. How to make your project successful?"
   ]
  },
  {
   "cell_type": "markdown",
   "metadata": {},
   "source": [
    "# 0. Are the number of the projects increasing?"
   ]
  },
  {
   "cell_type": "code",
   "execution_count": 204,
   "metadata": {},
   "outputs": [
    {
     "data": {
      "image/png": "[encoded data removed]",
      "text/plain": [
       "<Figure size 1152x576 with 1 Axes>"
      ]
     },
     "metadata": {},
     "output_type": "display_data"
    }
   ],
   "source": [
    "plt.figure(figsize=(16, 8))\n",
    "g = sns.barplot(x='year', y='counts', data=projects_per_year[projects_per_year['year'] != 2018])\n",
    "plt.title(\"The number of the projects per year\");"
   ]
  },
  {
   "cell_type": "markdown",
   "metadata": {},
   "source": [
    "# 1. Are funding the projects increasing?"
   ]
  },
  {
   "cell_type": "code",
   "execution_count": 205,
   "metadata": {},
   "outputs": [
    {
     "data": {
      "image/png": "[encoded data removed]",
      "text/plain": [
       "<Figure size 1152x576 with 1 Axes>"
      ]
     },
     "metadata": {},
     "output_type": "display_data"
    }
   ],
   "source": [
    "plt.figure(figsize=(16, 8))\n",
    "g = sns.barplot(x='year', y='fund', data=fund_per_year[fund_per_year['year'] != 2018])\n",
    "plt.title(\"The pledge for the projects per year\");"
   ]
  },
  {
   "cell_type": "markdown",
   "metadata": {},
   "source": [
    "# 2. What factors may be correlated with success/failure of the projects?"
   ]
  },
  {
   "cell_type": "markdown",
   "metadata": {},
   "source": [
    "* category?\n",
    "  * main category\n",
    "  * sub category\n",
    "* goal?\n",
    "* country\n",
    "* duration (deadline - launched)"
   ]
  },
  {
   "cell_type": "code",
   "execution_count": null,
   "metadata": {},
   "outputs": [],
   "source": []
  },
  {
   "cell_type": "code",
   "execution_count": null,
   "metadata": {},
   "outputs": [],
   "source": []
  },
  {
   "cell_type": "code",
   "execution_count": null,
   "metadata": {},
   "outputs": [],
   "source": []
  },
  {
   "cell_type": "code",
   "execution_count": null,
   "metadata": {},
   "outputs": [],
   "source": []
  },
  {
   "cell_type": "markdown",
   "metadata": {},
   "source": [
    "# 3. How to make your project successful?"
   ]
  },
  {
   "cell_type": "code",
   "execution_count": null,
   "metadata": {},
   "outputs": [],
   "source": []
  },
  {
   "cell_type": "code",
   "execution_count": null,
   "metadata": {},
   "outputs": [],
   "source": []
  },
  {
   "cell_type": "code",
   "execution_count": null,
   "metadata": {},
   "outputs": [],
   "source": []
  },
  {
   "cell_type": "code",
   "execution_count": null,
   "metadata": {},
   "outputs": [],
   "source": []
  }
 ],
 "metadata": {
  "kernelspec": {
   "display_name": "Python 3",
   "language": "python",
   "name": "python3"
  },
  "language_info": {
   "codemirror_mode": {
    "name": "ipython",
    "version": 3
   },
   "file_extension": ".py",
   "mimetype": "text/x-python",
   "name": "python",
   "nbconvert_exporter": "python",
   "pygments_lexer": "ipython3",
   "version": "3.6.0"
  }
 },
 "nbformat": 4,
 "nbformat_minor": 2
}
